{
 "cells": [
  {
   "cell_type": "code",
   "execution_count": 47,
   "id": "d2cb2b54-b221-4e9c-93a5-38d4b338d1db",
   "metadata": {},
   "outputs": [],
   "source": [
    "from eccd_datasets import load_lingerie\n",
    "import pandas as pd"
   ]
  },
  {
   "cell_type": "code",
   "execution_count": 48,
   "id": "f71bf291-4bfb-48aa-9f89-9fe1862b1e9a",
   "metadata": {},
   "outputs": [
    {
     "data": {
      "text/plain": [
       "dict_keys(['ae_com', 'amazon_com', 'btemptd_com', 'calvinklein_com', 'hankypanky_com', 'macys_com', 'shop_nordstrom_com', 'us_topshop_com', 'victoriassecret_com'])"
      ]
     },
     "execution_count": 48,
     "metadata": {},
     "output_type": "execute_result"
    }
   ],
   "source": [
    "datasets = load_lingerie()\n",
    "datasets.keys()"
   ]
  },
  {
   "cell_type": "code",
   "execution_count": 49,
   "id": "cbdebc31-641e-451c-b101-9911a5eb7313",
   "metadata": {},
   "outputs": [
    {
     "data": {
      "text/plain": [
       "Index(['product_name', 'mrp', 'price', 'pdp_url', 'brand_name',\n",
       "       'product_category', 'retailer', 'description', 'rating', 'review_count',\n",
       "       'style_attributes', 'total_sizes', 'available_size', 'color'],\n",
       "      dtype='object')"
      ]
     },
     "execution_count": 49,
     "metadata": {},
     "output_type": "execute_result"
    }
   ],
   "source": [
    "dataset = pd.concat(datasets.values())\n",
    "dataset.columns"
   ]
  },
  {
   "cell_type": "code",
   "execution_count": 50,
   "id": "2be6c721-da38-4315-8d26-f918ef874e19",
   "metadata": {},
   "outputs": [
    {
     "data": {
      "text/html": [
       "<div>\n",
       "<style scoped>\n",
       "    .dataframe tbody tr th:only-of-type {\n",
       "        vertical-align: middle;\n",
       "    }\n",
       "\n",
       "    .dataframe tbody tr th {\n",
       "        vertical-align: top;\n",
       "    }\n",
       "\n",
       "    .dataframe thead th {\n",
       "        text-align: right;\n",
       "    }\n",
       "</style>\n",
       "<table border=\"1\" class=\"dataframe\">\n",
       "  <thead>\n",
       "    <tr style=\"text-align: right;\">\n",
       "      <th></th>\n",
       "      <th>product_name</th>\n",
       "      <th>mrp</th>\n",
       "      <th>price</th>\n",
       "      <th>pdp_url</th>\n",
       "      <th>brand_name</th>\n",
       "      <th>product_category</th>\n",
       "      <th>retailer</th>\n",
       "      <th>description</th>\n",
       "      <th>rating</th>\n",
       "      <th>review_count</th>\n",
       "      <th>style_attributes</th>\n",
       "      <th>total_sizes</th>\n",
       "      <th>available_size</th>\n",
       "      <th>color</th>\n",
       "    </tr>\n",
       "  </thead>\n",
       "  <tbody>\n",
       "    <tr>\n",
       "      <th>0</th>\n",
       "      <td>Aerie Everyday Loves Lace Cheeky</td>\n",
       "      <td>12.50 USD</td>\n",
       "      <td>12.50 USD</td>\n",
       "      <td>https://www.ae.com/aerie-everyday-loves-lace-c...</td>\n",
       "      <td>AERIE</td>\n",
       "      <td>Cheekies</td>\n",
       "      <td>Ae US</td>\n",
       "      <td>Introducing Everyday Loves™: Made with love. E...</td>\n",
       "      <td>5.0</td>\n",
       "      <td>8.0</td>\n",
       "      <td>[\"Soft lace with the right amount of stretch\",...</td>\n",
       "      <td>[\"XS\", \"S\", \"M\", \"L\", \"XL\", \"XXL\"]</td>\n",
       "      <td>[\"XS\", \"S\", \"M\", \"L\", \"XL\", \"XXL\"]</td>\n",
       "      <td>Rugged Green</td>\n",
       "    </tr>\n",
       "    <tr>\n",
       "      <th>1</th>\n",
       "      <td>Aerie Everyday Loves Lace Cheeky</td>\n",
       "      <td>12.50 USD</td>\n",
       "      <td>12.50 USD</td>\n",
       "      <td>https://www.ae.com/aerie-everyday-loves-lace-c...</td>\n",
       "      <td>AERIE</td>\n",
       "      <td>Cheekies</td>\n",
       "      <td>Ae US</td>\n",
       "      <td>Introducing Everyday Loves™: Made with love. E...</td>\n",
       "      <td>5.0</td>\n",
       "      <td>8.0</td>\n",
       "      <td>[\"Soft lace with the right amount of stretch\",...</td>\n",
       "      <td>[\"XS\", \"S\", \"M\", \"L\", \"XL\", \"XXL\"]</td>\n",
       "      <td>[\"XS\", \"S\", \"M\", \"L\", \"XL\", \"XXL\"]</td>\n",
       "      <td>Natural Nude</td>\n",
       "    </tr>\n",
       "    <tr>\n",
       "      <th>2</th>\n",
       "      <td>Aerie Everyday Loves Lace Cheeky</td>\n",
       "      <td>12.50 USD</td>\n",
       "      <td>12.50 USD</td>\n",
       "      <td>https://www.ae.com/aerie-everyday-loves-lace-c...</td>\n",
       "      <td>AERIE</td>\n",
       "      <td>Cheekies</td>\n",
       "      <td>Ae US</td>\n",
       "      <td>Introducing Everyday Loves™: Made with love. E...</td>\n",
       "      <td>5.0</td>\n",
       "      <td>8.0</td>\n",
       "      <td>[\"Soft lace with the right amount of stretch\",...</td>\n",
       "      <td>[\"XS\", \"S\", \"M\", \"L\", \"XL\", \"XXL\"]</td>\n",
       "      <td>[\"XS\", \"S\", \"M\", \"L\", \"XL\", \"XXL\"]</td>\n",
       "      <td>True Black</td>\n",
       "    </tr>\n",
       "    <tr>\n",
       "      <th>3</th>\n",
       "      <td>Aerie Everyday Loves Lace Cheeky</td>\n",
       "      <td>12.50 USD</td>\n",
       "      <td>12.50 USD</td>\n",
       "      <td>https://www.ae.com/aerie-everyday-loves-lace-c...</td>\n",
       "      <td>AERIE</td>\n",
       "      <td>Cheekies</td>\n",
       "      <td>Ae US</td>\n",
       "      <td>Introducing Everyday Loves™: Made with love. E...</td>\n",
       "      <td>5.0</td>\n",
       "      <td>8.0</td>\n",
       "      <td>[\"Soft lace with the right amount of stretch\",...</td>\n",
       "      <td>[\"XS\", \"S\", \"M\", \"L\", \"XL\", \"XXL\"]</td>\n",
       "      <td>[\"XS\", \"S\", \"M\", \"L\", \"XL\", \"XXL\"]</td>\n",
       "      <td>White</td>\n",
       "    </tr>\n",
       "    <tr>\n",
       "      <th>4</th>\n",
       "      <td>Aerie Everyday Loves Lace Cheeky</td>\n",
       "      <td>12.50 USD</td>\n",
       "      <td>12.50 USD</td>\n",
       "      <td>https://www.ae.com/aerie-everyday-loves-lace-c...</td>\n",
       "      <td>AERIE</td>\n",
       "      <td>Cheekies</td>\n",
       "      <td>Ae US</td>\n",
       "      <td>Introducing Everyday Loves™: Made with love. E...</td>\n",
       "      <td>5.0</td>\n",
       "      <td>8.0</td>\n",
       "      <td>[\"Soft lace with the right amount of stretch\",...</td>\n",
       "      <td>[\"XS\", \"S\", \"M\", \"L\", \"XL\", \"XXL\"]</td>\n",
       "      <td>[\"XS\", \"S\", \"M\", \"L\", \"XL\", \"XXL\"]</td>\n",
       "      <td>Royal Navy</td>\n",
       "    </tr>\n",
       "  </tbody>\n",
       "</table>\n",
       "</div>"
      ],
      "text/plain": [
       "                       product_name        mrp      price  \\\n",
       "0  Aerie Everyday Loves Lace Cheeky  12.50 USD  12.50 USD   \n",
       "1  Aerie Everyday Loves Lace Cheeky  12.50 USD  12.50 USD   \n",
       "2  Aerie Everyday Loves Lace Cheeky  12.50 USD  12.50 USD   \n",
       "3  Aerie Everyday Loves Lace Cheeky  12.50 USD  12.50 USD   \n",
       "4  Aerie Everyday Loves Lace Cheeky  12.50 USD  12.50 USD   \n",
       "\n",
       "                                             pdp_url brand_name  \\\n",
       "0  https://www.ae.com/aerie-everyday-loves-lace-c...      AERIE   \n",
       "1  https://www.ae.com/aerie-everyday-loves-lace-c...      AERIE   \n",
       "2  https://www.ae.com/aerie-everyday-loves-lace-c...      AERIE   \n",
       "3  https://www.ae.com/aerie-everyday-loves-lace-c...      AERIE   \n",
       "4  https://www.ae.com/aerie-everyday-loves-lace-c...      AERIE   \n",
       "\n",
       "  product_category retailer  \\\n",
       "0         Cheekies    Ae US   \n",
       "1         Cheekies    Ae US   \n",
       "2         Cheekies    Ae US   \n",
       "3         Cheekies    Ae US   \n",
       "4         Cheekies    Ae US   \n",
       "\n",
       "                                         description  rating  review_count  \\\n",
       "0  Introducing Everyday Loves™: Made with love. E...     5.0           8.0   \n",
       "1  Introducing Everyday Loves™: Made with love. E...     5.0           8.0   \n",
       "2  Introducing Everyday Loves™: Made with love. E...     5.0           8.0   \n",
       "3  Introducing Everyday Loves™: Made with love. E...     5.0           8.0   \n",
       "4  Introducing Everyday Loves™: Made with love. E...     5.0           8.0   \n",
       "\n",
       "                                    style_attributes  \\\n",
       "0  [\"Soft lace with the right amount of stretch\",...   \n",
       "1  [\"Soft lace with the right amount of stretch\",...   \n",
       "2  [\"Soft lace with the right amount of stretch\",...   \n",
       "3  [\"Soft lace with the right amount of stretch\",...   \n",
       "4  [\"Soft lace with the right amount of stretch\",...   \n",
       "\n",
       "                          total_sizes                      available_size  \\\n",
       "0  [\"XS\", \"S\", \"M\", \"L\", \"XL\", \"XXL\"]  [\"XS\", \"S\", \"M\", \"L\", \"XL\", \"XXL\"]   \n",
       "1  [\"XS\", \"S\", \"M\", \"L\", \"XL\", \"XXL\"]  [\"XS\", \"S\", \"M\", \"L\", \"XL\", \"XXL\"]   \n",
       "2  [\"XS\", \"S\", \"M\", \"L\", \"XL\", \"XXL\"]  [\"XS\", \"S\", \"M\", \"L\", \"XL\", \"XXL\"]   \n",
       "3  [\"XS\", \"S\", \"M\", \"L\", \"XL\", \"XXL\"]  [\"XS\", \"S\", \"M\", \"L\", \"XL\", \"XXL\"]   \n",
       "4  [\"XS\", \"S\", \"M\", \"L\", \"XL\", \"XXL\"]  [\"XS\", \"S\", \"M\", \"L\", \"XL\", \"XXL\"]   \n",
       "\n",
       "          color  \n",
       "0  Rugged Green  \n",
       "1  Natural Nude  \n",
       "2    True Black  \n",
       "3         White  \n",
       "4    Royal Navy  "
      ]
     },
     "execution_count": 50,
     "metadata": {},
     "output_type": "execute_result"
    }
   ],
   "source": [
    "dataset.head()"
   ]
  },
  {
   "cell_type": "code",
   "execution_count": 51,
   "id": "78886e69-f402-4f91-9d14-1e489a9e6a25",
   "metadata": {},
   "outputs": [
    {
     "name": "stdout",
     "output_type": "stream",
     "text": [
      "<class 'pandas.core.frame.DataFrame'>\n",
      "Index: 613143 entries, 0 to 453385\n",
      "Data columns (total 14 columns):\n",
      " #   Column            Non-Null Count   Dtype  \n",
      "---  ------            --------------   -----  \n",
      " 0   product_name      613143 non-null  object \n",
      " 1   mrp               613143 non-null  object \n",
      " 2   price             613143 non-null  object \n",
      " 3   pdp_url           613143 non-null  object \n",
      " 4   brand_name        613143 non-null  object \n",
      " 5   product_category  613143 non-null  object \n",
      " 6   retailer          613143 non-null  object \n",
      " 7   description       613143 non-null  object \n",
      " 8   rating            233556 non-null  float64\n",
      " 9   review_count      222030 non-null  float64\n",
      " 10  style_attributes  156675 non-null  object \n",
      " 11  total_sizes       613143 non-null  object \n",
      " 12  available_size    613143 non-null  object \n",
      " 13  color             612466 non-null  object \n",
      "dtypes: float64(2), object(12)\n",
      "memory usage: 70.2+ MB\n"
     ]
    }
   ],
   "source": [
    "dataset.info()"
   ]
  },
  {
   "cell_type": "code",
   "execution_count": 52,
   "id": "975ee8e3-fe20-4cf0-94c7-d3c54913b0f4",
   "metadata": {},
   "outputs": [
    {
     "data": {
      "text/plain": [
       "2819"
      ]
     },
     "execution_count": 52,
     "metadata": {},
     "output_type": "execute_result"
    }
   ],
   "source": [
    "dataset[\"product_name\"].nunique()"
   ]
  },
  {
   "cell_type": "code",
   "execution_count": 53,
   "id": "2c0fca02-418c-4b54-8c49-e9ca3638d7e3",
   "metadata": {},
   "outputs": [
    {
     "name": "stdout",
     "output_type": "stream",
     "text": [
      "ae_com: 28328\n",
      "amazon_com: 31612\n",
      "btemptd_com: 3518\n",
      "calvinklein_com: 4747\n",
      "hankypanky_com: 35005\n",
      "macys_com: 40897\n",
      "shop_nordstrom_com: 12568\n",
      "us_topshop_com: 3082\n",
      "victoriassecret_com: 453386\n"
     ]
    }
   ],
   "source": [
    "for d in datasets:\n",
    "    print(f\"{d}: {len(datasets[d])}\")"
   ]
  },
  {
   "cell_type": "code",
   "execution_count": 54,
   "id": "3a3ef275-e12e-4370-8e8a-58972728a0e7",
   "metadata": {},
   "outputs": [
    {
     "data": {
      "text/plain": [
       "'[\"ombre triangle bralette\",\"linear eyelet lace galloon + picot elastic trim\",\"dip-dyed ombre design\",\"triangle shaping + adjustable straps\",\"logo plaque\",\"cushioned back closure\",\"machine wash\",\"91% nylon 9% elastane\",\"imported\"]'"
      ]
     },
     "execution_count": 54,
     "metadata": {},
     "output_type": "execute_result"
    }
   ],
   "source": [
    "datasets[\"calvinklein_com\"][\"style_attributes\"][200]"
   ]
  },
  {
   "cell_type": "code",
   "execution_count": 56,
   "id": "43e7c11f-857d-423e-960d-8ce8be233006",
   "metadata": {},
   "outputs": [],
   "source": [
    "cols = [\n",
    "        \"product_name\",\n",
    "        \"price\",\n",
    "        \"brand_name\",\n",
    "        \"product_category\",\n",
    "        \"description\",\n",
    "        \"style_attributes\",\n",
    "]\n",
    "df = dataset[cols].drop_duplicates()"
   ]
  },
  {
   "cell_type": "code",
   "execution_count": 57,
   "id": "8978eaf4-1939-492f-a673-9614117496f6",
   "metadata": {},
   "outputs": [
    {
     "name": "stdout",
     "output_type": "stream",
     "text": [
      "<class 'pandas.core.frame.DataFrame'>\n",
      "Index: 12806 entries, 0 to 437270\n",
      "Data columns (total 6 columns):\n",
      " #   Column            Non-Null Count  Dtype \n",
      "---  ------            --------------  ----- \n",
      " 0   product_name      12806 non-null  object\n",
      " 1   price             12806 non-null  object\n",
      " 2   brand_name        12806 non-null  object\n",
      " 3   product_category  12806 non-null  object\n",
      " 4   description       12806 non-null  object\n",
      " 5   style_attributes  11037 non-null  object\n",
      "dtypes: object(6)\n",
      "memory usage: 700.3+ KB\n"
     ]
    }
   ],
   "source": [
    "df.info()"
   ]
  },
  {
   "cell_type": "code",
   "execution_count": 58,
   "id": "e673aadb-c25f-4869-9ada-cefb8a5e1dec",
   "metadata": {},
   "outputs": [],
   "source": [
    "df[\"style_attributes\"] = df[\"style_attributes\"].fillna('[\"\"]')"
   ]
  },
  {
   "cell_type": "code",
   "execution_count": 59,
   "id": "25db909f-1995-474d-a49e-958c578a7337",
   "metadata": {},
   "outputs": [
    {
     "name": "stdout",
     "output_type": "stream",
     "text": [
      "<class 'pandas.core.frame.DataFrame'>\n",
      "Index: 12806 entries, 0 to 437270\n",
      "Data columns (total 6 columns):\n",
      " #   Column            Non-Null Count  Dtype \n",
      "---  ------            --------------  ----- \n",
      " 0   product_name      12806 non-null  object\n",
      " 1   price             12806 non-null  object\n",
      " 2   brand_name        12806 non-null  object\n",
      " 3   product_category  12806 non-null  object\n",
      " 4   description       12806 non-null  object\n",
      " 5   style_attributes  12806 non-null  object\n",
      "dtypes: object(6)\n",
      "memory usage: 700.3+ KB\n"
     ]
    }
   ],
   "source": [
    "df.info()"
   ]
  },
  {
   "cell_type": "code",
   "execution_count": 60,
   "id": "f780b627-a445-4d53-af5d-321d875d1159",
   "metadata": {},
   "outputs": [],
   "source": [
    "def parse_style_attributes(styles_str):\n",
    "    try:\n",
    "        eval(styles_str)\n",
    "        return styles_str\n",
    "    except SyntaxError:\n",
    "        styles_list = (\n",
    "            styles_str.replace(\"[\", \"\").replace(\"]\", \"\").split(\",\")\n",
    "        )\n",
    "        return f\"{[s.strip() for s in styles_list]}\"\n"
   ]
  },
  {
   "cell_type": "code",
   "execution_count": 61,
   "id": "b214d704-fc00-4dce-900d-712be18a47b9",
   "metadata": {},
   "outputs": [],
   "source": [
    "df[\"style_attributes\"] = df[\"style_attributes\"].apply(parse_style_attributes)"
   ]
  },
  {
   "cell_type": "code",
   "execution_count": 62,
   "id": "3ca7daa2-ef5b-4486-abe1-fac8d1c8a77e",
   "metadata": {},
   "outputs": [
    {
     "name": "stdout",
     "output_type": "stream",
     "text": [
      "38\n"
     ]
    }
   ],
   "source": [
    "# lets check the price\n",
    "bad_price_indexes = []\n",
    "for i in range(len(df)):\n",
    "    price = df[\"price\"].iloc[i]\n",
    "    clean_price = price.replace(\"$\", \"\").replace(\"USD\", \"\")\n",
    "    try:\n",
    "        float_price = float(clean_price)\n",
    "    except ValueError:\n",
    "        bad_price_indexes.append(i)\n",
    "print(len(bad_price_indexes))"
   ]
  },
  {
   "cell_type": "code",
   "execution_count": 63,
   "id": "72ac3e8c-1ede-4fd8-9cfa-610cecf7bff8",
   "metadata": {},
   "outputs": [],
   "source": [
    "def parse_price(price_str):\n",
    "    clean_price = price_str.replace(\"$\", \"\").replace(\"USD\", \"\")\n",
    "    try:\n",
    "        return float(clean_price)\n",
    "    except ValueError:\n",
    "        return -1.0"
   ]
  },
  {
   "cell_type": "code",
   "execution_count": 64,
   "id": "5a4ffe1b-7312-4fb7-9921-787110910de5",
   "metadata": {},
   "outputs": [],
   "source": [
    "df[\"price\"] = df[\"price\"].apply(parse_price)\n",
    "df = df[df[\"price\"] > 0]\n",
    "mean_prices = df.groupby([\"product_name\", \"brand_name\"])[\"price\"].mean()\n",
    "df[\"price\"] = df.set_index(\n",
    "    [\"product_name\", \"brand_name\"]\n",
    ").index.map(mean_prices)"
   ]
  },
  {
   "cell_type": "code",
   "execution_count": 65,
   "id": "bb1f1a91-15c8-4b06-a660-fe4d8285fc69",
   "metadata": {},
   "outputs": [
    {
     "data": {
      "text/plain": [
       "2817"
      ]
     },
     "execution_count": 65,
     "metadata": {},
     "output_type": "execute_result"
    }
   ],
   "source": [
    "df[\"product_name\"].nunique()"
   ]
  },
  {
   "cell_type": "code",
   "execution_count": 66,
   "id": "78c5743e-1de6-4f3b-953e-25503805ec73",
   "metadata": {},
   "outputs": [
    {
     "name": "stdout",
     "output_type": "stream",
     "text": [
      "<class 'pandas.core.frame.DataFrame'>\n",
      "Index: 12768 entries, 0 to 437270\n",
      "Data columns (total 6 columns):\n",
      " #   Column            Non-Null Count  Dtype  \n",
      "---  ------            --------------  -----  \n",
      " 0   product_name      12768 non-null  object \n",
      " 1   price             12768 non-null  float64\n",
      " 2   brand_name        12768 non-null  object \n",
      " 3   product_category  12768 non-null  object \n",
      " 4   description       12768 non-null  object \n",
      " 5   style_attributes  12768 non-null  object \n",
      "dtypes: float64(1), object(5)\n",
      "memory usage: 698.2+ KB\n"
     ]
    }
   ],
   "source": [
    "df.info()"
   ]
  },
  {
   "cell_type": "code",
   "execution_count": 67,
   "id": "90cb4a17-8e07-4faf-a7d5-abfc09d53d85",
   "metadata": {},
   "outputs": [],
   "source": [
    "df = df.drop_duplicates()"
   ]
  },
  {
   "cell_type": "code",
   "execution_count": 68,
   "id": "4b99a904-8bf2-4c43-b019-5aebf886b99a",
   "metadata": {},
   "outputs": [
    {
     "data": {
      "text/html": [
       "<div>\n",
       "<style scoped>\n",
       "    .dataframe tbody tr th:only-of-type {\n",
       "        vertical-align: middle;\n",
       "    }\n",
       "\n",
       "    .dataframe tbody tr th {\n",
       "        vertical-align: top;\n",
       "    }\n",
       "\n",
       "    .dataframe thead th {\n",
       "        text-align: right;\n",
       "    }\n",
       "</style>\n",
       "<table border=\"1\" class=\"dataframe\">\n",
       "  <thead>\n",
       "    <tr style=\"text-align: right;\">\n",
       "      <th></th>\n",
       "      <th>product_name</th>\n",
       "      <th>price</th>\n",
       "      <th>brand_name</th>\n",
       "      <th>product_category</th>\n",
       "      <th>description</th>\n",
       "      <th>style_attributes</th>\n",
       "    </tr>\n",
       "  </thead>\n",
       "  <tbody>\n",
       "    <tr>\n",
       "      <th>0</th>\n",
       "      <td>Aerie Everyday Loves Lace Cheeky</td>\n",
       "      <td>12.500000</td>\n",
       "      <td>AERIE</td>\n",
       "      <td>Cheekies</td>\n",
       "      <td>Introducing Everyday Loves™: Made with love. E...</td>\n",
       "      <td>[\"Soft lace with the right amount of stretch\",...</td>\n",
       "    </tr>\n",
       "    <tr>\n",
       "      <th>6</th>\n",
       "      <td>Aerie Lace Hi-Rise Boybrief</td>\n",
       "      <td>12.500000</td>\n",
       "      <td>AERIE</td>\n",
       "      <td>Boybriefs</td>\n",
       "      <td>Laced with love and extra comfort. No cheek pe...</td>\n",
       "      <td>[\"Soft lace with the right amount of stretch\",...</td>\n",
       "    </tr>\n",
       "    <tr>\n",
       "      <th>13</th>\n",
       "      <td>Aerie Boybrief</td>\n",
       "      <td>9.418944</td>\n",
       "      <td>AERIE</td>\n",
       "      <td>Boybriefs</td>\n",
       "      <td>It all started with a boybrief: our original f...</td>\n",
       "      <td>[\"Comfy, stretchy cotton\", \"Aerie undies: your...</td>\n",
       "    </tr>\n",
       "    <tr>\n",
       "      <th>16</th>\n",
       "      <td>Aerie Seamless Thong</td>\n",
       "      <td>12.242121</td>\n",
       "      <td>AERIE</td>\n",
       "      <td>Thongs</td>\n",
       "      <td>Total cheek! Smooth: No seams. All comfort. Re...</td>\n",
       "      <td>[\"Smooth seamless fabric\", \"Aerie undies: Your...</td>\n",
       "    </tr>\n",
       "    <tr>\n",
       "      <th>21</th>\n",
       "      <td>Aerie Shine Bikini + Boho Lace</td>\n",
       "      <td>12.500000</td>\n",
       "      <td>AERIE</td>\n",
       "      <td>Bikinis</td>\n",
       "      <td>Shine on. A peek of cheek meets peace, love an...</td>\n",
       "      <td>[\"Smooth shine fabric + Boho lace\", \"Aerie und...</td>\n",
       "    </tr>\n",
       "    <tr>\n",
       "      <th>...</th>\n",
       "      <td>...</td>\n",
       "      <td>...</td>\n",
       "      <td>...</td>\n",
       "      <td>...</td>\n",
       "      <td>...</td>\n",
       "      <td>...</td>\n",
       "    </tr>\n",
       "    <tr>\n",
       "      <th>415113</th>\n",
       "      <td>PINK NEW! Lace Trim No Show Cheekster</td>\n",
       "      <td>10.500000</td>\n",
       "      <td>Victoria's Secret Pink</td>\n",
       "      <td>Lace Trim No Show Cheekster</td>\n",
       "      <td>This cheekster fits cute and covers like a hip...</td>\n",
       "      <td>[\"\"]</td>\n",
       "    </tr>\n",
       "    <tr>\n",
       "      <th>421115</th>\n",
       "      <td>PINK Super Soft Lace Trim Boyshort</td>\n",
       "      <td>10.500000</td>\n",
       "      <td>Victoria's Secret Pink</td>\n",
       "      <td>Super Soft Lace Trim Boyshort</td>\n",
       "      <td>This boyshort combines the comfort you crave w...</td>\n",
       "      <td>[\"\"]</td>\n",
       "    </tr>\n",
       "    <tr>\n",
       "      <th>428856</th>\n",
       "      <td>PINK NEW! High-neck Wrap</td>\n",
       "      <td>42.950000</td>\n",
       "      <td>Victoria's Secret Pink</td>\n",
       "      <td>High-neck Wrap</td>\n",
       "      <td>Turn heads on the beach in this statement-maki...</td>\n",
       "      <td>[\"\"]</td>\n",
       "    </tr>\n",
       "    <tr>\n",
       "      <th>437259</th>\n",
       "      <td>PINK NEW! Super Soft Lace Trim Boyshort</td>\n",
       "      <td>10.500000</td>\n",
       "      <td>Victoria's Secret Pink</td>\n",
       "      <td>Super Soft Lace Trim Boyshort</td>\n",
       "      <td>This boyshort combines the comfort you crave w...</td>\n",
       "      <td>[\"\"]</td>\n",
       "    </tr>\n",
       "    <tr>\n",
       "      <th>437270</th>\n",
       "      <td>Very Sexy XO Lace Bodysuit</td>\n",
       "      <td>68.000000</td>\n",
       "      <td>Victoria's Secret</td>\n",
       "      <td>XO Lace Bodysuit</td>\n",
       "      <td>Cutouts in all the right places frame this tho...</td>\n",
       "      <td>[\"\"]</td>\n",
       "    </tr>\n",
       "  </tbody>\n",
       "</table>\n",
       "<p>7763 rows × 6 columns</p>\n",
       "</div>"
      ],
      "text/plain": [
       "                                   product_name      price  \\\n",
       "0              Aerie Everyday Loves Lace Cheeky  12.500000   \n",
       "6                   Aerie Lace Hi-Rise Boybrief  12.500000   \n",
       "13                               Aerie Boybrief   9.418944   \n",
       "16                         Aerie Seamless Thong  12.242121   \n",
       "21               Aerie Shine Bikini + Boho Lace  12.500000   \n",
       "...                                         ...        ...   \n",
       "415113    PINK NEW! Lace Trim No Show Cheekster  10.500000   \n",
       "421115       PINK Super Soft Lace Trim Boyshort  10.500000   \n",
       "428856                 PINK NEW! High-neck Wrap  42.950000   \n",
       "437259  PINK NEW! Super Soft Lace Trim Boyshort  10.500000   \n",
       "437270               Very Sexy XO Lace Bodysuit  68.000000   \n",
       "\n",
       "                    brand_name               product_category  \\\n",
       "0                        AERIE                       Cheekies   \n",
       "6                        AERIE                      Boybriefs   \n",
       "13                       AERIE                      Boybriefs   \n",
       "16                       AERIE                         Thongs   \n",
       "21                       AERIE                        Bikinis   \n",
       "...                        ...                            ...   \n",
       "415113  Victoria's Secret Pink    Lace Trim No Show Cheekster   \n",
       "421115  Victoria's Secret Pink  Super Soft Lace Trim Boyshort   \n",
       "428856  Victoria's Secret Pink                 High-neck Wrap   \n",
       "437259  Victoria's Secret Pink  Super Soft Lace Trim Boyshort   \n",
       "437270       Victoria's Secret               XO Lace Bodysuit   \n",
       "\n",
       "                                              description  \\\n",
       "0       Introducing Everyday Loves™: Made with love. E...   \n",
       "6       Laced with love and extra comfort. No cheek pe...   \n",
       "13      It all started with a boybrief: our original f...   \n",
       "16      Total cheek! Smooth: No seams. All comfort. Re...   \n",
       "21      Shine on. A peek of cheek meets peace, love an...   \n",
       "...                                                   ...   \n",
       "415113  This cheekster fits cute and covers like a hip...   \n",
       "421115  This boyshort combines the comfort you crave w...   \n",
       "428856  Turn heads on the beach in this statement-maki...   \n",
       "437259  This boyshort combines the comfort you crave w...   \n",
       "437270  Cutouts in all the right places frame this tho...   \n",
       "\n",
       "                                         style_attributes  \n",
       "0       [\"Soft lace with the right amount of stretch\",...  \n",
       "6       [\"Soft lace with the right amount of stretch\",...  \n",
       "13      [\"Comfy, stretchy cotton\", \"Aerie undies: your...  \n",
       "16      [\"Smooth seamless fabric\", \"Aerie undies: Your...  \n",
       "21      [\"Smooth shine fabric + Boho lace\", \"Aerie und...  \n",
       "...                                                   ...  \n",
       "415113                                               [\"\"]  \n",
       "421115                                               [\"\"]  \n",
       "428856                                               [\"\"]  \n",
       "437259                                               [\"\"]  \n",
       "437270                                               [\"\"]  \n",
       "\n",
       "[7763 rows x 6 columns]"
      ]
     },
     "execution_count": 68,
     "metadata": {},
     "output_type": "execute_result"
    }
   ],
   "source": [
    "df"
   ]
  },
  {
   "cell_type": "code",
   "execution_count": 69,
   "id": "83d531c3-b5b9-4d5b-a0da-1f36e87ea91d",
   "metadata": {},
   "outputs": [],
   "source": [
    "brand_counts = df[\"brand_name\"].value_counts()"
   ]
  },
  {
   "cell_type": "code",
   "execution_count": 70,
   "id": "2ba34d7e-d6b1-40a4-860d-329c9c68bc5c",
   "metadata": {},
   "outputs": [
    {
     "data": {
      "text/plain": [
       "brand_name\n",
       "AERIE                                                                                                  2041\n",
       "HankyPanky                                                                                             1258\n",
       "Calvin Klein                                                                                            977\n",
       "Wacoal                                                                                                  608\n",
       "US TOPSHOP                                                                                              564\n",
       "Victoria's Secret                                                                                       497\n",
       "Hanky Panky                                                                                             313\n",
       "WACOAL                                                                                                  258\n",
       "HANKY PANKY                                                                                             239\n",
       "Victoria's Secret Pink                                                                                  198\n",
       "b.tempt'd by Wacoal                                                                                     190\n",
       "Calvin-Klein                                                                                            162\n",
       "CALVIN KLEIN                                                                                            144\n",
       "Vanity Fair                                                                                              56\n",
       "Calvin Klein Modern Cotton                                                                               52\n",
       "B.TEMPT'D BY WACOAL                                                                                      45\n",
       "NORDSTROM LINGERIE                                                                                       42\n",
       "b-temptd                                                                                                 38\n",
       "Hanky-Panky                                                                                              35\n",
       "Calvin Klein Performance                                                                                 20\n",
       "Victorias-Secret                                                                                          6\n",
       "b.tempt'd                                                                                                 4\n",
       "AEO                                                                                                       3\n",
       "s                                                                                                         3\n",
       "ref=w_bl_sl_l_b_ap_web_2603426011?ie=UTF8&node=2603426011&field-lbr_brands_browse-bin=Wacoal              2\n",
       "Fila                                                                                                      1\n",
       "Lucky-Brand                                                                                               1\n",
       "ref=w_bl_sl_l_ap_ap_web_2586685011?ie=UTF8&node=2586685011&field-lbr_brands_browse-bin=Calvin+Klein       1\n",
       "ref=w_bl_sl_l_b_ap_web_2586451011?ie=UTF8&node=2586451011&field-lbr_brands_browse-bin=b.tempt%27d         1\n",
       "Nintendo                                                                                                  1\n",
       "Sexy-Hair                                                                                                 1\n",
       "Creative-Motion                                                                                           1\n",
       "Compression-Comfort                                                                                       1\n",
       "Name: count, dtype: int64"
      ]
     },
     "execution_count": 70,
     "metadata": {},
     "output_type": "execute_result"
    }
   ],
   "source": [
    "brand_counts"
   ]
  },
  {
   "cell_type": "code",
   "execution_count": 71,
   "id": "13ca5333-2664-4088-868e-7e4aeed602a3",
   "metadata": {},
   "outputs": [],
   "source": [
    "    brand_mapping = {\n",
    "        \"HankyPanky\": \"Hanky Panky\",\n",
    "        \"HANKY PANKY\": \"Hanky Panky\",\n",
    "        \"Calvin-Klein\": \"Calvin Klein\",\n",
    "        \"CALVIN KLEIN\": \"Calvin Klein\",\n",
    "        \"Calvin Klein Modern Cotton\": \"Calvin Klein\",\n",
    "        \"b.tempt'd by Wacoal\": \"Wacoal\",\n",
    "        \"B.TEMPT'D BY WACOAL\": \"Wacoal\",\n",
    "        \"WACOAL\": \"Wacoal\",\n",
    "        \"Victoria's Secret Pink\": \"Victoria's Secret\",\n",
    "        \"Victorias-Secret\": \"Victoria's Secret\",\n",
    "    }\n"
   ]
  },
  {
   "cell_type": "code",
   "execution_count": 72,
   "id": "3cca4b35-6e4a-4aee-bc57-88488cc861e4",
   "metadata": {},
   "outputs": [],
   "source": [
    "brand_counts = df[\"brand_name\"].value_counts()\n",
    "brands_with_100_plus = brand_counts[brand_counts >= 100].index\n",
    "final_df = df[df[\"brand_name\"].isin(brands_with_100_plus)]\n"
   ]
  },
  {
   "cell_type": "code",
   "execution_count": 73,
   "id": "4cf7deaf-7da5-496b-b39e-bf61f9b629c4",
   "metadata": {},
   "outputs": [
    {
     "data": {
      "text/html": [
       "<div>\n",
       "<style scoped>\n",
       "    .dataframe tbody tr th:only-of-type {\n",
       "        vertical-align: middle;\n",
       "    }\n",
       "\n",
       "    .dataframe tbody tr th {\n",
       "        vertical-align: top;\n",
       "    }\n",
       "\n",
       "    .dataframe thead th {\n",
       "        text-align: right;\n",
       "    }\n",
       "</style>\n",
       "<table border=\"1\" class=\"dataframe\">\n",
       "  <thead>\n",
       "    <tr style=\"text-align: right;\">\n",
       "      <th></th>\n",
       "      <th>product_name</th>\n",
       "      <th>price</th>\n",
       "      <th>brand_name</th>\n",
       "      <th>product_category</th>\n",
       "      <th>description</th>\n",
       "      <th>style_attributes</th>\n",
       "    </tr>\n",
       "  </thead>\n",
       "  <tbody>\n",
       "    <tr>\n",
       "      <th>0</th>\n",
       "      <td>Aerie Everyday Loves Lace Cheeky</td>\n",
       "      <td>12.500000</td>\n",
       "      <td>AERIE</td>\n",
       "      <td>Cheekies</td>\n",
       "      <td>Introducing Everyday Loves™: Made with love. E...</td>\n",
       "      <td>[\"Soft lace with the right amount of stretch\",...</td>\n",
       "    </tr>\n",
       "    <tr>\n",
       "      <th>6</th>\n",
       "      <td>Aerie Lace Hi-Rise Boybrief</td>\n",
       "      <td>12.500000</td>\n",
       "      <td>AERIE</td>\n",
       "      <td>Boybriefs</td>\n",
       "      <td>Laced with love and extra comfort. No cheek pe...</td>\n",
       "      <td>[\"Soft lace with the right amount of stretch\",...</td>\n",
       "    </tr>\n",
       "    <tr>\n",
       "      <th>13</th>\n",
       "      <td>Aerie Boybrief</td>\n",
       "      <td>9.418944</td>\n",
       "      <td>AERIE</td>\n",
       "      <td>Boybriefs</td>\n",
       "      <td>It all started with a boybrief: our original f...</td>\n",
       "      <td>[\"Comfy, stretchy cotton\", \"Aerie undies: your...</td>\n",
       "    </tr>\n",
       "    <tr>\n",
       "      <th>16</th>\n",
       "      <td>Aerie Seamless Thong</td>\n",
       "      <td>12.242121</td>\n",
       "      <td>AERIE</td>\n",
       "      <td>Thongs</td>\n",
       "      <td>Total cheek! Smooth: No seams. All comfort. Re...</td>\n",
       "      <td>[\"Smooth seamless fabric\", \"Aerie undies: Your...</td>\n",
       "    </tr>\n",
       "    <tr>\n",
       "      <th>21</th>\n",
       "      <td>Aerie Shine Bikini + Boho Lace</td>\n",
       "      <td>12.500000</td>\n",
       "      <td>AERIE</td>\n",
       "      <td>Bikinis</td>\n",
       "      <td>Shine on. A peek of cheek meets peace, love an...</td>\n",
       "      <td>[\"Smooth shine fabric + Boho lace\", \"Aerie und...</td>\n",
       "    </tr>\n",
       "    <tr>\n",
       "      <th>...</th>\n",
       "      <td>...</td>\n",
       "      <td>...</td>\n",
       "      <td>...</td>\n",
       "      <td>...</td>\n",
       "      <td>...</td>\n",
       "      <td>...</td>\n",
       "    </tr>\n",
       "    <tr>\n",
       "      <th>415113</th>\n",
       "      <td>PINK NEW! Lace Trim No Show Cheekster</td>\n",
       "      <td>10.500000</td>\n",
       "      <td>Victoria's Secret Pink</td>\n",
       "      <td>Lace Trim No Show Cheekster</td>\n",
       "      <td>This cheekster fits cute and covers like a hip...</td>\n",
       "      <td>[\"\"]</td>\n",
       "    </tr>\n",
       "    <tr>\n",
       "      <th>421115</th>\n",
       "      <td>PINK Super Soft Lace Trim Boyshort</td>\n",
       "      <td>10.500000</td>\n",
       "      <td>Victoria's Secret Pink</td>\n",
       "      <td>Super Soft Lace Trim Boyshort</td>\n",
       "      <td>This boyshort combines the comfort you crave w...</td>\n",
       "      <td>[\"\"]</td>\n",
       "    </tr>\n",
       "    <tr>\n",
       "      <th>428856</th>\n",
       "      <td>PINK NEW! High-neck Wrap</td>\n",
       "      <td>42.950000</td>\n",
       "      <td>Victoria's Secret Pink</td>\n",
       "      <td>High-neck Wrap</td>\n",
       "      <td>Turn heads on the beach in this statement-maki...</td>\n",
       "      <td>[\"\"]</td>\n",
       "    </tr>\n",
       "    <tr>\n",
       "      <th>437259</th>\n",
       "      <td>PINK NEW! Super Soft Lace Trim Boyshort</td>\n",
       "      <td>10.500000</td>\n",
       "      <td>Victoria's Secret Pink</td>\n",
       "      <td>Super Soft Lace Trim Boyshort</td>\n",
       "      <td>This boyshort combines the comfort you crave w...</td>\n",
       "      <td>[\"\"]</td>\n",
       "    </tr>\n",
       "    <tr>\n",
       "      <th>437270</th>\n",
       "      <td>Very Sexy XO Lace Bodysuit</td>\n",
       "      <td>68.000000</td>\n",
       "      <td>Victoria's Secret</td>\n",
       "      <td>XO Lace Bodysuit</td>\n",
       "      <td>Cutouts in all the right places frame this tho...</td>\n",
       "      <td>[\"\"]</td>\n",
       "    </tr>\n",
       "  </tbody>\n",
       "</table>\n",
       "<p>7449 rows × 6 columns</p>\n",
       "</div>"
      ],
      "text/plain": [
       "                                   product_name      price  \\\n",
       "0              Aerie Everyday Loves Lace Cheeky  12.500000   \n",
       "6                   Aerie Lace Hi-Rise Boybrief  12.500000   \n",
       "13                               Aerie Boybrief   9.418944   \n",
       "16                         Aerie Seamless Thong  12.242121   \n",
       "21               Aerie Shine Bikini + Boho Lace  12.500000   \n",
       "...                                         ...        ...   \n",
       "415113    PINK NEW! Lace Trim No Show Cheekster  10.500000   \n",
       "421115       PINK Super Soft Lace Trim Boyshort  10.500000   \n",
       "428856                 PINK NEW! High-neck Wrap  42.950000   \n",
       "437259  PINK NEW! Super Soft Lace Trim Boyshort  10.500000   \n",
       "437270               Very Sexy XO Lace Bodysuit  68.000000   \n",
       "\n",
       "                    brand_name               product_category  \\\n",
       "0                        AERIE                       Cheekies   \n",
       "6                        AERIE                      Boybriefs   \n",
       "13                       AERIE                      Boybriefs   \n",
       "16                       AERIE                         Thongs   \n",
       "21                       AERIE                        Bikinis   \n",
       "...                        ...                            ...   \n",
       "415113  Victoria's Secret Pink    Lace Trim No Show Cheekster   \n",
       "421115  Victoria's Secret Pink  Super Soft Lace Trim Boyshort   \n",
       "428856  Victoria's Secret Pink                 High-neck Wrap   \n",
       "437259  Victoria's Secret Pink  Super Soft Lace Trim Boyshort   \n",
       "437270       Victoria's Secret               XO Lace Bodysuit   \n",
       "\n",
       "                                              description  \\\n",
       "0       Introducing Everyday Loves™: Made with love. E...   \n",
       "6       Laced with love and extra comfort. No cheek pe...   \n",
       "13      It all started with a boybrief: our original f...   \n",
       "16      Total cheek! Smooth: No seams. All comfort. Re...   \n",
       "21      Shine on. A peek of cheek meets peace, love an...   \n",
       "...                                                   ...   \n",
       "415113  This cheekster fits cute and covers like a hip...   \n",
       "421115  This boyshort combines the comfort you crave w...   \n",
       "428856  Turn heads on the beach in this statement-maki...   \n",
       "437259  This boyshort combines the comfort you crave w...   \n",
       "437270  Cutouts in all the right places frame this tho...   \n",
       "\n",
       "                                         style_attributes  \n",
       "0       [\"Soft lace with the right amount of stretch\",...  \n",
       "6       [\"Soft lace with the right amount of stretch\",...  \n",
       "13      [\"Comfy, stretchy cotton\", \"Aerie undies: your...  \n",
       "16      [\"Smooth seamless fabric\", \"Aerie undies: Your...  \n",
       "21      [\"Smooth shine fabric + Boho lace\", \"Aerie und...  \n",
       "...                                                   ...  \n",
       "415113                                               [\"\"]  \n",
       "421115                                               [\"\"]  \n",
       "428856                                               [\"\"]  \n",
       "437259                                               [\"\"]  \n",
       "437270                                               [\"\"]  \n",
       "\n",
       "[7449 rows x 6 columns]"
      ]
     },
     "execution_count": 73,
     "metadata": {},
     "output_type": "execute_result"
    }
   ],
   "source": [
    "final_df"
   ]
  },
  {
   "cell_type": "code",
   "execution_count": 76,
   "id": "667312e9-fd99-43d6-bc20-ef2b8164e9c9",
   "metadata": {},
   "outputs": [],
   "source": [
    "final_df.to_csv(\"dataset.csv\")"
   ]
  }
 ],
 "metadata": {
  "kernelspec": {
   "display_name": "Python 3 (ipykernel)",
   "language": "python",
   "name": "python3"
  },
  "language_info": {
   "codemirror_mode": {
    "name": "ipython",
    "version": 3
   },
   "file_extension": ".py",
   "mimetype": "text/x-python",
   "name": "python",
   "nbconvert_exporter": "python",
   "pygments_lexer": "ipython3",
   "version": "3.11.7"
  }
 },
 "nbformat": 4,
 "nbformat_minor": 5
}
